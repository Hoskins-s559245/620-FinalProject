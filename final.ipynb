{
 "cells": [
  {
   "cell_type": "code",
   "execution_count": 65,
   "metadata": {},
   "outputs": [
    {
     "ename": "KeyError",
     "evalue": "'label'",
     "output_type": "error",
     "traceback": [
      "\u001b[1;31m---------------------------------------------------------------------------\u001b[0m",
      "\u001b[1;31mKeyError\u001b[0m                                  Traceback (most recent call last)",
      "Cell \u001b[1;32mIn[65], line 26\u001b[0m\n\u001b[0;32m     22\u001b[0m     jsonData \u001b[39m=\u001b[39m json\u001b[39m.\u001b[39mdumps(d)\n\u001b[0;32m     23\u001b[0m     \u001b[39mprint\u001b[39m (jsonData)\n\u001b[1;32m---> 26\u001b[0m check(response\u001b[39m.\u001b[39;49mjson())\n",
      "Cell \u001b[1;32mIn[65], line 19\u001b[0m, in \u001b[0;36mcheck\u001b[1;34m(obe)\u001b[0m\n\u001b[0;32m     17\u001b[0m \u001b[39mdef\u001b[39;00m \u001b[39mcheck\u001b[39m(obe):\n\u001b[0;32m     18\u001b[0m     d  \u001b[39m=\u001b[39m response\u001b[39m.\u001b[39mjson()\n\u001b[1;32m---> 19\u001b[0m     d[\u001b[39m\"\u001b[39m\u001b[39mhits\u001b[39m\u001b[39m\"\u001b[39m][\u001b[39m\"\u001b[39m\u001b[39mrecipe\u001b[39m\u001b[39m\"\u001b[39m] \u001b[39m=\u001b[39m[\u001b[39mdict\u001b[39;49m(name\u001b[39m=\u001b[39;49mk1[\u001b[39m\"\u001b[39;49m\u001b[39mlabel\u001b[39;49m\u001b[39m\"\u001b[39;49m],mealtype\u001b[39m=\u001b[39;49mk1[\u001b[39m\"\u001b[39;49m\u001b[39mmealType\u001b[39;49m\u001b[39m\"\u001b[39;49m],source\u001b[39m=\u001b[39;49mk1[\u001b[39m\"\u001b[39;49m\u001b[39msource\u001b[39;49m\u001b[39m\"\u001b[39;49m],link\u001b[39m=\u001b[39;49mk1[\u001b[39m\"\u001b[39;49m\u001b[39mshareAs\u001b[39;49m\u001b[39m\"\u001b[39;49m],calories\u001b[39m=\u001b[39;49mk1[\u001b[39m\"\u001b[39;49m\u001b[39mcalories\u001b[39;49m\u001b[39m\"\u001b[39;49m],ingredients\u001b[39m=\u001b[39;49mk1[\u001b[39m\"\u001b[39;49m\u001b[39mingredientLines\u001b[39;49m\u001b[39m\"\u001b[39;49m]) \u001b[39mfor\u001b[39;49;00m k1 \u001b[39min\u001b[39;49;00m \n\u001b[0;32m     20\u001b[0m     d[\u001b[39m\"\u001b[39;49m\u001b[39mhits\u001b[39;49m\u001b[39m\"\u001b[39;49m]]\n\u001b[0;32m     22\u001b[0m     jsonData \u001b[39m=\u001b[39m json\u001b[39m.\u001b[39mdumps(d)\n\u001b[0;32m     23\u001b[0m     \u001b[39mprint\u001b[39m (jsonData)\n",
      "Cell \u001b[1;32mIn[65], line 19\u001b[0m, in \u001b[0;36m<listcomp>\u001b[1;34m(.0)\u001b[0m\n\u001b[0;32m     17\u001b[0m \u001b[39mdef\u001b[39;00m \u001b[39mcheck\u001b[39m(obe):\n\u001b[0;32m     18\u001b[0m     d  \u001b[39m=\u001b[39m response\u001b[39m.\u001b[39mjson()\n\u001b[1;32m---> 19\u001b[0m     d[\u001b[39m\"\u001b[39m\u001b[39mhits\u001b[39m\u001b[39m\"\u001b[39m][\u001b[39m\"\u001b[39m\u001b[39mrecipe\u001b[39m\u001b[39m\"\u001b[39m] \u001b[39m=\u001b[39m[\u001b[39mdict\u001b[39m(name\u001b[39m=\u001b[39mk1[\u001b[39m\"\u001b[39;49m\u001b[39mlabel\u001b[39;49m\u001b[39m\"\u001b[39;49m],mealtype\u001b[39m=\u001b[39mk1[\u001b[39m\"\u001b[39m\u001b[39mmealType\u001b[39m\u001b[39m\"\u001b[39m],source\u001b[39m=\u001b[39mk1[\u001b[39m\"\u001b[39m\u001b[39msource\u001b[39m\u001b[39m\"\u001b[39m],link\u001b[39m=\u001b[39mk1[\u001b[39m\"\u001b[39m\u001b[39mshareAs\u001b[39m\u001b[39m\"\u001b[39m],calories\u001b[39m=\u001b[39mk1[\u001b[39m\"\u001b[39m\u001b[39mcalories\u001b[39m\u001b[39m\"\u001b[39m],ingredients\u001b[39m=\u001b[39mk1[\u001b[39m\"\u001b[39m\u001b[39mingredientLines\u001b[39m\u001b[39m\"\u001b[39m]) \u001b[39mfor\u001b[39;00m k1 \u001b[39min\u001b[39;00m \n\u001b[0;32m     20\u001b[0m     d[\u001b[39m\"\u001b[39m\u001b[39mhits\u001b[39m\u001b[39m\"\u001b[39m]]\n\u001b[0;32m     22\u001b[0m     jsonData \u001b[39m=\u001b[39m json\u001b[39m.\u001b[39mdumps(d)\n\u001b[0;32m     23\u001b[0m     \u001b[39mprint\u001b[39m (jsonData)\n",
      "\u001b[1;31mKeyError\u001b[0m: 'label'"
     ]
    }
   ],
   "source": [
    "import requests\n",
    "import json\n",
    "\n",
    "params = {\"q\": \"Lettuce\", \"Health\": \"Vegitarian\",\"format\" : \"json\"}\n",
    "\n",
    "response = requests.get(\"https://edamam-recipe-search.p.rapidapi.com/search\", params =params,  headers = {\n",
    "    'X-RapidAPI-Key': ',\n",
    "    'X-RapidAPI-Host': 'edamam-recipe-search.p.rapidapi.com'\n",
    "  })\n",
    "\n",
    "def call(obj):\n",
    "    \n",
    "    text = json.dumps(obj, sort_keys=True, indent = 8)\n",
    "    \n",
    "    print(text)\n",
    "\n",
    "def check(obe):\n",
    "    d  = response.json()\n",
    "    d[\"hits\"] =[dict(['recipes' : {name=k1[\"label\"],mealtype=k1[\"mealType\"],source=k1[\"source\"],link=k1[\"shareAs\"],calories=k1[\"calories\"],ingredients=k1[\"ingredientLines\"]}}]) for k1 in \n",
    "    d[\"hits\"]]\n",
    "\n",
    "    jsonData = json.dumps(d)\n",
    "    print (jsonData)\n",
    "\n",
    "\n",
    "check(response.json())\n"
   ]
  }
 ],
 "metadata": {
  "kernelspec": {
   "display_name": "Python 3",
   "language": "python",
   "name": "python3"
  },
  "language_info": {
   "codemirror_mode": {
    "name": "ipython",
    "version": 3
   },
   "file_extension": ".py",
   "mimetype": "text/x-python",
   "name": "python",
   "nbconvert_exporter": "python",
   "pygments_lexer": "ipython3",
   "version": "3.11.3"
  },
  "orig_nbformat": 4
 },
 "nbformat": 4,
 "nbformat_minor": 2
}
